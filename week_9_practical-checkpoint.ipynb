{
 "cells": [
  {
   "cell_type": "markdown",
   "id": "a8b2b601",
   "metadata": {},
   "source": [
    "The data in the file `RIKZ.txt` available in the `data` folder was collected to study the relationship between some abiotic aspects (e.g., sediment composition, slope of the beach) as these might affect benthic fauna. Mulder (2000) described the results of a pilot study that looked at the effects of differences in slope and grain size on fauna in the coastal zone. \n",
    "\n",
    "\n",
    "Janssen, G.M., Mulder, S., Zuur, A.F., Ieno, E.N. and Smith, G.M."
   ]
  },
  {
   "cell_type": "markdown",
   "id": "28f2e03c",
   "metadata": {},
   "source": [
    "Q1. Load the data into a variable called `survey_data`\n",
    "  * The `survey_data` should be a `tibble`\n",
    "  * The fileds in the file are delimited. You can change read_csv's behavior to split on tabs, rather that on comma (\",\"), which is the default behavior"
   ]
  },
  {
   "cell_type": "code",
   "execution_count": 3,
   "id": "88e6f261",
   "metadata": {},
   "outputs": [],
   "source": [
    "# write your code here\n",
    "library(ggplot2)\n",
    "library(tidyverse)"
   ]
  },
  {
   "cell_type": "code",
   "execution_count": 17,
   "id": "a61cc023",
   "metadata": {},
   "outputs": [
    {
     "data": {
      "text/html": [
       "'C:/Users/Aimee/Documents/GitHub/New_MBIO612-F2021/week_8/data'"
      ],
      "text/latex": [
       "'C:/Users/Aimee/Documents/GitHub/New\\_MBIO612-F2021/week\\_8/data'"
      ],
      "text/markdown": [
       "'C:/Users/Aimee/Documents/GitHub/New_MBIO612-F2021/week_8/data'"
      ],
      "text/plain": [
       "[1] \"C:/Users/Aimee/Documents/GitHub/New_MBIO612-F2021/week_8/data\""
      ]
     },
     "metadata": {},
     "output_type": "display_data"
    }
   ],
   "source": [
    "setwd(\"C:\\\\Users\\\\Aimee\\\\Documents\\\\GitHub\\\\New_MBIO612-F2021\\\\week_8\\\\data\")\n",
    "getwd()\n",
    "survey_data <- read.csv(\"RIKZ.txt\", sep=\"\\t\", header=TRUE)"
   ]
  },
  {
   "cell_type": "markdown",
   "id": "b38ffe9f",
   "metadata": {},
   "source": [
    "Q2. display the first 6 lines of the tables"
   ]
  },
  {
   "cell_type": "code",
   "execution_count": 22,
   "id": "3bfcc569",
   "metadata": {},
   "outputs": [
    {
     "data": {
      "text/html": [
       "<table>\n",
       "<thead><tr><th scope=col>Sample</th><th scope=col>C1</th><th scope=col>P1</th><th scope=col>P2</th><th scope=col>P3</th><th scope=col>P4</th><th scope=col>P5</th><th scope=col>P6</th><th scope=col>P7</th><th scope=col>P8</th><th scope=col>...</th><th scope=col>exposure</th><th scope=col>salinity</th><th scope=col>temperature</th><th scope=col>NAP</th><th scope=col>penetrability</th><th scope=col>grainsize</th><th scope=col>humus</th><th scope=col>chalk</th><th scope=col>sorting1</th><th scope=col>Beach</th></tr></thead>\n",
       "<tbody>\n",
       "\t<tr><td>1     </td><td>4     </td><td>0     </td><td>0     </td><td>0     </td><td>0     </td><td>0     </td><td>1     </td><td>0     </td><td>0     </td><td>...   </td><td>10    </td><td>29.4  </td><td>17.5  </td><td> 0.045</td><td>253.9 </td><td>222.5 </td><td>0.05  </td><td>2.05  </td><td>69.830</td><td>1     </td></tr>\n",
       "\t<tr><td>2     </td><td>0     </td><td>0     </td><td>1     </td><td>0     </td><td>0     </td><td>0     </td><td>0     </td><td>0     </td><td>0     </td><td>...   </td><td>10    </td><td>29.4  </td><td>17.5  </td><td>-1.036</td><td>226.9 </td><td>200.0 </td><td>0.30  </td><td>2.50  </td><td>59.000</td><td>1     </td></tr>\n",
       "\t<tr><td>3     </td><td>0     </td><td>0     </td><td>3     </td><td>0     </td><td>0     </td><td>0     </td><td>0     </td><td>0     </td><td>0     </td><td>...   </td><td>10    </td><td>29.4  </td><td>17.5  </td><td>-1.336</td><td>237.1 </td><td>194.5 </td><td>0.10  </td><td>3.45  </td><td>59.220</td><td>1     </td></tr>\n",
       "\t<tr><td>4     </td><td>0     </td><td>0     </td><td>0     </td><td>0     </td><td>0     </td><td>0     </td><td>0     </td><td>0     </td><td>0     </td><td>...   </td><td>10    </td><td>29.4  </td><td>17.5  </td><td> 0.616</td><td>248.6 </td><td>221.0 </td><td>0.15  </td><td>1.60  </td><td>67.750</td><td>1     </td></tr>\n",
       "\t<tr><td>5     </td><td>1     </td><td>0     </td><td>0     </td><td>0     </td><td>0     </td><td>0     </td><td>0     </td><td>0     </td><td>0     </td><td>...   </td><td>10    </td><td>29.4  </td><td>17.5  </td><td>-0.684</td><td>251.9 </td><td>202.0 </td><td>0.05  </td><td>2.45  </td><td>57.760</td><td>1     </td></tr>\n",
       "\t<tr><td>6     </td><td>0     </td><td>0     </td><td>0     </td><td>0     </td><td>0     </td><td>1     </td><td>0     </td><td>0     </td><td>0     </td><td>...   </td><td> 8    </td><td>29.6  </td><td>20.8  </td><td> 1.190</td><td>250.1 </td><td>192.5 </td><td>0.10  </td><td>2.50  </td><td>53.075</td><td>2     </td></tr>\n",
       "</tbody>\n",
       "</table>\n"
      ],
      "text/latex": [
       "\\begin{tabular}{r|lllllllllllllllllllllllllllllllllllllllllllllllllllllllllllllllllllllllllllllllllllllllll}\n",
       " Sample & C1 & P1 & P2 & P3 & P4 & P5 & P6 & P7 & P8 & ... & exposure & salinity & temperature & NAP & penetrability & grainsize & humus & chalk & sorting1 & Beach\\\\\n",
       "\\hline\n",
       "\t 1      & 4      & 0      & 0      & 0      & 0      & 0      & 1      & 0      & 0      & ...    & 10     & 29.4   & 17.5   &  0.045 & 253.9  & 222.5  & 0.05   & 2.05   & 69.830 & 1     \\\\\n",
       "\t 2      & 0      & 0      & 1      & 0      & 0      & 0      & 0      & 0      & 0      & ...    & 10     & 29.4   & 17.5   & -1.036 & 226.9  & 200.0  & 0.30   & 2.50   & 59.000 & 1     \\\\\n",
       "\t 3      & 0      & 0      & 3      & 0      & 0      & 0      & 0      & 0      & 0      & ...    & 10     & 29.4   & 17.5   & -1.336 & 237.1  & 194.5  & 0.10   & 3.45   & 59.220 & 1     \\\\\n",
       "\t 4      & 0      & 0      & 0      & 0      & 0      & 0      & 0      & 0      & 0      & ...    & 10     & 29.4   & 17.5   &  0.616 & 248.6  & 221.0  & 0.15   & 1.60   & 67.750 & 1     \\\\\n",
       "\t 5      & 1      & 0      & 0      & 0      & 0      & 0      & 0      & 0      & 0      & ...    & 10     & 29.4   & 17.5   & -0.684 & 251.9  & 202.0  & 0.05   & 2.45   & 57.760 & 1     \\\\\n",
       "\t 6      & 0      & 0      & 0      & 0      & 0      & 1      & 0      & 0      & 0      & ...    &  8     & 29.6   & 20.8   &  1.190 & 250.1  & 192.5  & 0.10   & 2.50   & 53.075 & 2     \\\\\n",
       "\\end{tabular}\n"
      ],
      "text/markdown": [
       "\n",
       "| Sample | C1 | P1 | P2 | P3 | P4 | P5 | P6 | P7 | P8 | ... | exposure | salinity | temperature | NAP | penetrability | grainsize | humus | chalk | sorting1 | Beach |\n",
       "|---|---|---|---|---|---|---|---|---|---|---|---|---|---|---|---|---|---|---|---|---|\n",
       "| 1      | 4      | 0      | 0      | 0      | 0      | 0      | 1      | 0      | 0      | ...    | 10     | 29.4   | 17.5   |  0.045 | 253.9  | 222.5  | 0.05   | 2.05   | 69.830 | 1      |\n",
       "| 2      | 0      | 0      | 1      | 0      | 0      | 0      | 0      | 0      | 0      | ...    | 10     | 29.4   | 17.5   | -1.036 | 226.9  | 200.0  | 0.30   | 2.50   | 59.000 | 1      |\n",
       "| 3      | 0      | 0      | 3      | 0      | 0      | 0      | 0      | 0      | 0      | ...    | 10     | 29.4   | 17.5   | -1.336 | 237.1  | 194.5  | 0.10   | 3.45   | 59.220 | 1      |\n",
       "| 4      | 0      | 0      | 0      | 0      | 0      | 0      | 0      | 0      | 0      | ...    | 10     | 29.4   | 17.5   |  0.616 | 248.6  | 221.0  | 0.15   | 1.60   | 67.750 | 1      |\n",
       "| 5      | 1      | 0      | 0      | 0      | 0      | 0      | 0      | 0      | 0      | ...    | 10     | 29.4   | 17.5   | -0.684 | 251.9  | 202.0  | 0.05   | 2.45   | 57.760 | 1      |\n",
       "| 6      | 0      | 0      | 0      | 0      | 0      | 1      | 0      | 0      | 0      | ...    |  8     | 29.6   | 20.8   |  1.190 | 250.1  | 192.5  | 0.10   | 2.50   | 53.075 | 2      |\n",
       "\n"
      ],
      "text/plain": [
       "  Sample C1 P1 P2 P3 P4 P5 P6 P7 P8 ... exposure salinity temperature NAP   \n",
       "1 1      4  0  0  0  0  0  1  0  0  ... 10       29.4     17.5         0.045\n",
       "2 2      0  0  1  0  0  0  0  0  0  ... 10       29.4     17.5        -1.036\n",
       "3 3      0  0  3  0  0  0  0  0  0  ... 10       29.4     17.5        -1.336\n",
       "4 4      0  0  0  0  0  0  0  0  0  ... 10       29.4     17.5         0.616\n",
       "5 5      1  0  0  0  0  0  0  0  0  ... 10       29.4     17.5        -0.684\n",
       "6 6      0  0  0  0  0  1  0  0  0  ...  8       29.6     20.8         1.190\n",
       "  penetrability grainsize humus chalk sorting1 Beach\n",
       "1 253.9         222.5     0.05  2.05  69.830   1    \n",
       "2 226.9         200.0     0.30  2.50  59.000   1    \n",
       "3 237.1         194.5     0.10  3.45  59.220   1    \n",
       "4 248.6         221.0     0.15  1.60  67.750   1    \n",
       "5 251.9         202.0     0.05  2.45  57.760   1    \n",
       "6 250.1         192.5     0.10  2.50  53.075   2    "
      ]
     },
     "metadata": {},
     "output_type": "display_data"
    }
   ],
   "source": [
    "# write your code here\n",
    "head(survey_data)"
   ]
  },
  {
   "cell_type": "markdown",
   "id": "7504d7cb",
   "metadata": {},
   "source": [
    "Q3 The columns C1 P1-P25, N1, CR1-28, M1-17 and I1-5 of the table represent the counts for 75 species grouped within five taxa: Chaetognatha (C), Polychaeta (P), Crustacea (CR), Mollusca (M), and Insecta (I). We're only interested in the richness, and we need to compute it as:\n",
    "* `1` if the group has a value `> 0`\n",
    "* `0` otherwise.\n",
    "\n",
    "* Create a new column, call it `richness`, which represents the richness in each sample. The richness of `sample 1` should be `11`, since sample has non-null values only for the following groups: \n",
    "```\n",
    "'C1''P6''P15''P16''P25''CR1''CR14''CR15''CR19''CR26''I3'\n",
    "```\n",
    "\n"
   ]
  },
  {
   "cell_type": "code",
   "execution_count": 32,
   "id": "cf24a458",
   "metadata": {},
   "outputs": [
    {
     "data": {
      "text/html": [
       "<table>\n",
       "<thead><tr><th scope=col>Sample</th><th scope=col>C1</th><th scope=col>P1</th><th scope=col>P2</th><th scope=col>P3</th><th scope=col>P4</th><th scope=col>P5</th><th scope=col>P6</th><th scope=col>P7</th><th scope=col>P8</th><th scope=col>...</th><th scope=col>salinity</th><th scope=col>temperature</th><th scope=col>NAP</th><th scope=col>penetrability</th><th scope=col>grainsize</th><th scope=col>humus</th><th scope=col>chalk</th><th scope=col>sorting1</th><th scope=col>Beach</th><th scope=col>richness</th></tr></thead>\n",
       "<tbody>\n",
       "\t<tr><td>1     </td><td>4     </td><td>0     </td><td>0     </td><td>0     </td><td>0     </td><td>0     </td><td>1     </td><td>0     </td><td>0     </td><td>...   </td><td>29.4  </td><td>17.5  </td><td> 0.045</td><td>253.9 </td><td>222.5 </td><td>0.05  </td><td>2.05  </td><td>69.830</td><td>1     </td><td>11    </td></tr>\n",
       "\t<tr><td>2     </td><td>0     </td><td>0     </td><td>1     </td><td>0     </td><td>0     </td><td>0     </td><td>0     </td><td>0     </td><td>0     </td><td>...   </td><td>29.4  </td><td>17.5  </td><td>-1.036</td><td>226.9 </td><td>200.0 </td><td>0.30  </td><td>2.50  </td><td>59.000</td><td>1     </td><td>10    </td></tr>\n",
       "\t<tr><td>3     </td><td>0     </td><td>0     </td><td>3     </td><td>0     </td><td>0     </td><td>0     </td><td>0     </td><td>0     </td><td>0     </td><td>...   </td><td>29.4  </td><td>17.5  </td><td>-1.336</td><td>237.1 </td><td>194.5 </td><td>0.10  </td><td>3.45  </td><td>59.220</td><td>1     </td><td>13    </td></tr>\n",
       "\t<tr><td>4     </td><td>0     </td><td>0     </td><td>0     </td><td>0     </td><td>0     </td><td>0     </td><td>0     </td><td>0     </td><td>0     </td><td>...   </td><td>29.4  </td><td>17.5  </td><td> 0.616</td><td>248.6 </td><td>221.0 </td><td>0.15  </td><td>1.60  </td><td>67.750</td><td>1     </td><td>11    </td></tr>\n",
       "\t<tr><td>5     </td><td>1     </td><td>0     </td><td>0     </td><td>0     </td><td>0     </td><td>0     </td><td>0     </td><td>0     </td><td>0     </td><td>...   </td><td>29.4  </td><td>17.5  </td><td>-0.684</td><td>251.9 </td><td>202.0 </td><td>0.05  </td><td>2.45  </td><td>57.760</td><td>1     </td><td>10    </td></tr>\n",
       "\t<tr><td>6     </td><td>0     </td><td>0     </td><td>0     </td><td>0     </td><td>0     </td><td>1     </td><td>0     </td><td>0     </td><td>0     </td><td>...   </td><td>29.6  </td><td>20.8  </td><td> 1.190</td><td>250.1 </td><td>192.5 </td><td>0.10  </td><td>2.50  </td><td>53.075</td><td>2     </td><td> 8    </td></tr>\n",
       "</tbody>\n",
       "</table>\n"
      ],
      "text/latex": [
       "\\begin{tabular}{r|llllllllllllllllllllllllllllllllllllllllllllllllllllllllllllllllllllllllllllllllllllllllll}\n",
       " Sample & C1 & P1 & P2 & P3 & P4 & P5 & P6 & P7 & P8 & ... & salinity & temperature & NAP & penetrability & grainsize & humus & chalk & sorting1 & Beach & richness\\\\\n",
       "\\hline\n",
       "\t 1      & 4      & 0      & 0      & 0      & 0      & 0      & 1      & 0      & 0      & ...    & 29.4   & 17.5   &  0.045 & 253.9  & 222.5  & 0.05   & 2.05   & 69.830 & 1      & 11    \\\\\n",
       "\t 2      & 0      & 0      & 1      & 0      & 0      & 0      & 0      & 0      & 0      & ...    & 29.4   & 17.5   & -1.036 & 226.9  & 200.0  & 0.30   & 2.50   & 59.000 & 1      & 10    \\\\\n",
       "\t 3      & 0      & 0      & 3      & 0      & 0      & 0      & 0      & 0      & 0      & ...    & 29.4   & 17.5   & -1.336 & 237.1  & 194.5  & 0.10   & 3.45   & 59.220 & 1      & 13    \\\\\n",
       "\t 4      & 0      & 0      & 0      & 0      & 0      & 0      & 0      & 0      & 0      & ...    & 29.4   & 17.5   &  0.616 & 248.6  & 221.0  & 0.15   & 1.60   & 67.750 & 1      & 11    \\\\\n",
       "\t 5      & 1      & 0      & 0      & 0      & 0      & 0      & 0      & 0      & 0      & ...    & 29.4   & 17.5   & -0.684 & 251.9  & 202.0  & 0.05   & 2.45   & 57.760 & 1      & 10    \\\\\n",
       "\t 6      & 0      & 0      & 0      & 0      & 0      & 1      & 0      & 0      & 0      & ...    & 29.6   & 20.8   &  1.190 & 250.1  & 192.5  & 0.10   & 2.50   & 53.075 & 2      &  8    \\\\\n",
       "\\end{tabular}\n"
      ],
      "text/markdown": [
       "\n",
       "| Sample | C1 | P1 | P2 | P3 | P4 | P5 | P6 | P7 | P8 | ... | salinity | temperature | NAP | penetrability | grainsize | humus | chalk | sorting1 | Beach | richness |\n",
       "|---|---|---|---|---|---|---|---|---|---|---|---|---|---|---|---|---|---|---|---|---|\n",
       "| 1      | 4      | 0      | 0      | 0      | 0      | 0      | 1      | 0      | 0      | ...    | 29.4   | 17.5   |  0.045 | 253.9  | 222.5  | 0.05   | 2.05   | 69.830 | 1      | 11     |\n",
       "| 2      | 0      | 0      | 1      | 0      | 0      | 0      | 0      | 0      | 0      | ...    | 29.4   | 17.5   | -1.036 | 226.9  | 200.0  | 0.30   | 2.50   | 59.000 | 1      | 10     |\n",
       "| 3      | 0      | 0      | 3      | 0      | 0      | 0      | 0      | 0      | 0      | ...    | 29.4   | 17.5   | -1.336 | 237.1  | 194.5  | 0.10   | 3.45   | 59.220 | 1      | 13     |\n",
       "| 4      | 0      | 0      | 0      | 0      | 0      | 0      | 0      | 0      | 0      | ...    | 29.4   | 17.5   |  0.616 | 248.6  | 221.0  | 0.15   | 1.60   | 67.750 | 1      | 11     |\n",
       "| 5      | 1      | 0      | 0      | 0      | 0      | 0      | 0      | 0      | 0      | ...    | 29.4   | 17.5   | -0.684 | 251.9  | 202.0  | 0.05   | 2.45   | 57.760 | 1      | 10     |\n",
       "| 6      | 0      | 0      | 0      | 0      | 0      | 1      | 0      | 0      | 0      | ...    | 29.6   | 20.8   |  1.190 | 250.1  | 192.5  | 0.10   | 2.50   | 53.075 | 2      |  8     |\n",
       "\n"
      ],
      "text/plain": [
       "  Sample C1 P1 P2 P3 P4 P5 P6 P7 P8 ... salinity temperature NAP   \n",
       "1 1      4  0  0  0  0  0  1  0  0  ... 29.4     17.5         0.045\n",
       "2 2      0  0  1  0  0  0  0  0  0  ... 29.4     17.5        -1.036\n",
       "3 3      0  0  3  0  0  0  0  0  0  ... 29.4     17.5        -1.336\n",
       "4 4      0  0  0  0  0  0  0  0  0  ... 29.4     17.5         0.616\n",
       "5 5      1  0  0  0  0  0  0  0  0  ... 29.4     17.5        -0.684\n",
       "6 6      0  0  0  0  0  1  0  0  0  ... 29.6     20.8         1.190\n",
       "  penetrability grainsize humus chalk sorting1 Beach richness\n",
       "1 253.9         222.5     0.05  2.05  69.830   1     11      \n",
       "2 226.9         200.0     0.30  2.50  59.000   1     10      \n",
       "3 237.1         194.5     0.10  3.45  59.220   1     13      \n",
       "4 248.6         221.0     0.15  1.60  67.750   1     11      \n",
       "5 251.9         202.0     0.05  2.45  57.760   1     10      \n",
       "6 250.1         192.5     0.10  2.50  53.075   2      8      "
      ]
     },
     "metadata": {},
     "output_type": "display_data"
    }
   ],
   "source": [
    "# write your code here\n",
    "survey_data$richness = rowSums(survey_data[ , 2:76] > 0)\n",
    "head(survey_data)"
   ]
  },
  {
   "cell_type": "markdown",
   "id": "1f51b37a",
   "metadata": {},
   "source": [
    "Q4 Create a copy of the variable `survey_data` that does not have columns C1 P1-P25, N1, CR1-28, M1-17 and I1-5. Call this variable `survey_data_richness`\n"
   ]
  },
  {
   "cell_type": "code",
   "execution_count": 85,
   "id": "ecb3b089",
   "metadata": {},
   "outputs": [
    {
     "data": {
      "text/html": [
       "<table>\n",
       "<thead><tr><th scope=col>week</th><th scope=col>angle1</th><th scope=col>angle2</th><th scope=col>exposure</th><th scope=col>salinity</th><th scope=col>temperature</th><th scope=col>NAP</th><th scope=col>penetrability</th><th scope=col>grainsize</th><th scope=col>humus</th><th scope=col>chalk</th><th scope=col>sorting1</th><th scope=col>Beach</th><th scope=col>richness</th></tr></thead>\n",
       "<tbody>\n",
       "\t<tr><td>1     </td><td> 32   </td><td>96    </td><td>10    </td><td>29.4  </td><td>17.5  </td><td> 0.045</td><td>253.9 </td><td>222.5 </td><td>0.05  </td><td>2.05  </td><td>69.830</td><td>1     </td><td>11    </td></tr>\n",
       "\t<tr><td>1     </td><td> 62   </td><td>96    </td><td>10    </td><td>29.4  </td><td>17.5  </td><td>-1.036</td><td>226.9 </td><td>200.0 </td><td>0.30  </td><td>2.50  </td><td>59.000</td><td>1     </td><td>10    </td></tr>\n",
       "\t<tr><td>1     </td><td> 65   </td><td>96    </td><td>10    </td><td>29.4  </td><td>17.5  </td><td>-1.336</td><td>237.1 </td><td>194.5 </td><td>0.10  </td><td>3.45  </td><td>59.220</td><td>1     </td><td>13    </td></tr>\n",
       "\t<tr><td>1     </td><td> 55   </td><td>96    </td><td>10    </td><td>29.4  </td><td>17.5  </td><td> 0.616</td><td>248.6 </td><td>221.0 </td><td>0.15  </td><td>1.60  </td><td>67.750</td><td>1     </td><td>11    </td></tr>\n",
       "\t<tr><td>1     </td><td> 23   </td><td>96    </td><td>10    </td><td>29.4  </td><td>17.5  </td><td>-0.684</td><td>251.9 </td><td>202.0 </td><td>0.05  </td><td>2.45  </td><td>57.760</td><td>1     </td><td>10    </td></tr>\n",
       "\t<tr><td>1     </td><td>129   </td><td>89    </td><td> 8    </td><td>29.6  </td><td>20.8  </td><td> 1.190</td><td>250.1 </td><td>192.5 </td><td>0.10  </td><td>2.50  </td><td>53.075</td><td>2     </td><td> 8    </td></tr>\n",
       "</tbody>\n",
       "</table>\n"
      ],
      "text/latex": [
       "\\begin{tabular}{r|llllllllllllll}\n",
       " week & angle1 & angle2 & exposure & salinity & temperature & NAP & penetrability & grainsize & humus & chalk & sorting1 & Beach & richness\\\\\n",
       "\\hline\n",
       "\t 1      &  32    & 96     & 10     & 29.4   & 17.5   &  0.045 & 253.9  & 222.5  & 0.05   & 2.05   & 69.830 & 1      & 11    \\\\\n",
       "\t 1      &  62    & 96     & 10     & 29.4   & 17.5   & -1.036 & 226.9  & 200.0  & 0.30   & 2.50   & 59.000 & 1      & 10    \\\\\n",
       "\t 1      &  65    & 96     & 10     & 29.4   & 17.5   & -1.336 & 237.1  & 194.5  & 0.10   & 3.45   & 59.220 & 1      & 13    \\\\\n",
       "\t 1      &  55    & 96     & 10     & 29.4   & 17.5   &  0.616 & 248.6  & 221.0  & 0.15   & 1.60   & 67.750 & 1      & 11    \\\\\n",
       "\t 1      &  23    & 96     & 10     & 29.4   & 17.5   & -0.684 & 251.9  & 202.0  & 0.05   & 2.45   & 57.760 & 1      & 10    \\\\\n",
       "\t 1      & 129    & 89     &  8     & 29.6   & 20.8   &  1.190 & 250.1  & 192.5  & 0.10   & 2.50   & 53.075 & 2      &  8    \\\\\n",
       "\\end{tabular}\n"
      ],
      "text/markdown": [
       "\n",
       "| week | angle1 | angle2 | exposure | salinity | temperature | NAP | penetrability | grainsize | humus | chalk | sorting1 | Beach | richness |\n",
       "|---|---|---|---|---|---|---|---|---|---|---|---|---|---|\n",
       "| 1      |  32    | 96     | 10     | 29.4   | 17.5   |  0.045 | 253.9  | 222.5  | 0.05   | 2.05   | 69.830 | 1      | 11     |\n",
       "| 1      |  62    | 96     | 10     | 29.4   | 17.5   | -1.036 | 226.9  | 200.0  | 0.30   | 2.50   | 59.000 | 1      | 10     |\n",
       "| 1      |  65    | 96     | 10     | 29.4   | 17.5   | -1.336 | 237.1  | 194.5  | 0.10   | 3.45   | 59.220 | 1      | 13     |\n",
       "| 1      |  55    | 96     | 10     | 29.4   | 17.5   |  0.616 | 248.6  | 221.0  | 0.15   | 1.60   | 67.750 | 1      | 11     |\n",
       "| 1      |  23    | 96     | 10     | 29.4   | 17.5   | -0.684 | 251.9  | 202.0  | 0.05   | 2.45   | 57.760 | 1      | 10     |\n",
       "| 1      | 129    | 89     |  8     | 29.6   | 20.8   |  1.190 | 250.1  | 192.5  | 0.10   | 2.50   | 53.075 | 2      |  8     |\n",
       "\n"
      ],
      "text/plain": [
       "  week angle1 angle2 exposure salinity temperature NAP    penetrability\n",
       "1 1     32    96     10       29.4     17.5         0.045 253.9        \n",
       "2 1     62    96     10       29.4     17.5        -1.036 226.9        \n",
       "3 1     65    96     10       29.4     17.5        -1.336 237.1        \n",
       "4 1     55    96     10       29.4     17.5         0.616 248.6        \n",
       "5 1     23    96     10       29.4     17.5        -0.684 251.9        \n",
       "6 1    129    89      8       29.6     20.8         1.190 250.1        \n",
       "  grainsize humus chalk sorting1 Beach richness\n",
       "1 222.5     0.05  2.05  69.830   1     11      \n",
       "2 200.0     0.30  2.50  59.000   1     10      \n",
       "3 194.5     0.10  3.45  59.220   1     13      \n",
       "4 221.0     0.15  1.60  67.750   1     11      \n",
       "5 202.0     0.05  2.45  57.760   1     10      \n",
       "6 192.5     0.10  2.50  53.075   2      8      "
      ]
     },
     "metadata": {},
     "output_type": "display_data"
    }
   ],
   "source": [
    "# Write your code here\n",
    "survey_data_richness <- survey_data[ , 77:90]\n",
    "head(survey_data_richness)"
   ]
  },
  {
   "cell_type": "markdown",
   "id": "1560369e",
   "metadata": {},
   "source": [
    "Q6. Use the `lm` function to model the richness as a function of the remaining variables but not including the variable `week`, which needs a special treatment we haven't covered yet!     \n"
   ]
  },
  {
   "cell_type": "code",
   "execution_count": 38,
   "id": "6d598229",
   "metadata": {},
   "outputs": [
    {
     "data": {
      "text/html": [
       "<dl>\n",
       "\t<dt>$coefficients</dt>\n",
       "\t\t<dd><dl class=dl-horizontal>\n",
       "\t<dt>(Intercept)</dt>\n",
       "\t\t<dd>-43.3711597292264</dd>\n",
       "\t<dt>angle1</dt>\n",
       "\t\t<dd>-0.00939667347690646</dd>\n",
       "\t<dt>angle2</dt>\n",
       "\t\t<dd>0.0537600729311559</dd>\n",
       "\t<dt>exposure</dt>\n",
       "\t\t<dd>-0.541853279636416</dd>\n",
       "\t<dt>salinity</dt>\n",
       "\t\t<dd>1.02063019720769</dd>\n",
       "\t<dt>temperature</dt>\n",
       "\t\t<dd>1.19551649617875</dd>\n",
       "\t<dt>NAP</dt>\n",
       "\t\t<dd>-2.76511997366234</dd>\n",
       "\t<dt>penetrability</dt>\n",
       "\t\t<dd>-0.00644305335494377</dd>\n",
       "\t<dt>grainsize</dt>\n",
       "\t\t<dd>0.0198334768113294</dd>\n",
       "\t<dt>humus</dt>\n",
       "\t\t<dd>0.306015315401414</dd>\n",
       "\t<dt>chalk</dt>\n",
       "\t\t<dd>-0.137526099251423</dd>\n",
       "\t<dt>sorting1</dt>\n",
       "\t\t<dd>0.00496753542119953</dd>\n",
       "\t<dt>Beach</dt>\n",
       "\t\t<dd>-0.228776798053635</dd>\n",
       "</dl>\n",
       "</dd>\n",
       "\t<dt>$residuals</dt>\n",
       "\t\t<dd><dl class=dl-horizontal>\n",
       "\t<dt>1</dt>\n",
       "\t\t<dd>1.49724718682707</dd>\n",
       "\t<dt>2</dt>\n",
       "\t\t<dd>-1.89847518829881</dd>\n",
       "\t<dt>3</dt>\n",
       "\t\t<dd>0.665742106292412</dd>\n",
       "\t<dt>4</dt>\n",
       "\t\t<dd>3.20570041166582</dd>\n",
       "\t<dt>5</dt>\n",
       "\t\t<dd>-1.09442657510802</dd>\n",
       "\t<dt>6</dt>\n",
       "\t\t<dd>-1.35281510713568</dd>\n",
       "\t<dt>7</dt>\n",
       "\t\t<dd>-1.71285696718487</dd>\n",
       "\t<dt>8</dt>\n",
       "\t\t<dd>-4.14844424107474</dd>\n",
       "\t<dt>9</dt>\n",
       "\t\t<dd>5.22064541064402</dd>\n",
       "\t<dt>10</dt>\n",
       "\t\t<dd>0.772645839762325</dd>\n",
       "\t<dt>11</dt>\n",
       "\t\t<dd>-0.795004445403651</dd>\n",
       "\t<dt>12</dt>\n",
       "\t\t<dd>2.15595388939124</dd>\n",
       "\t<dt>13</dt>\n",
       "\t\t<dd>-0.145517812733861</dd>\n",
       "\t<dt>14</dt>\n",
       "\t\t<dd>-2.06063224452412</dd>\n",
       "\t<dt>15</dt>\n",
       "\t\t<dd>-0.985102989415687</dd>\n",
       "\t<dt>16</dt>\n",
       "\t\t<dd>-0.193425434212978</dd>\n",
       "\t<dt>17</dt>\n",
       "\t\t<dd>0.023437461568664</dd>\n",
       "\t<dt>18</dt>\n",
       "\t\t<dd>1.94079538352121</dd>\n",
       "\t<dt>19</dt>\n",
       "\t\t<dd>-1.02960907741563</dd>\n",
       "\t<dt>20</dt>\n",
       "\t\t<dd>-1.3932604975429</dd>\n",
       "\t<dt>21</dt>\n",
       "\t\t<dd>-2.75136239908874</dd>\n",
       "\t<dt>22</dt>\n",
       "\t\t<dd>11.6043687849696</dd>\n",
       "\t<dt>23</dt>\n",
       "\t\t<dd>-1.31738459513248</dd>\n",
       "\t<dt>24</dt>\n",
       "\t\t<dd>-4.43438306754577</dd>\n",
       "\t<dt>25</dt>\n",
       "\t\t<dd>-2.79347740389545</dd>\n",
       "\t<dt>26</dt>\n",
       "\t\t<dd>0.385079769242294</dd>\n",
       "\t<dt>27</dt>\n",
       "\t\t<dd>-1.85958477456446</dd>\n",
       "\t<dt>28</dt>\n",
       "\t\t<dd>1.74134878549262</dd>\n",
       "\t<dt>29</dt>\n",
       "\t\t<dd>0.143710551505003</dd>\n",
       "\t<dt>30</dt>\n",
       "\t\t<dd>0.985691981232692</dd>\n",
       "\t<dt>31</dt>\n",
       "\t\t<dd>-1.55841356982911</dd>\n",
       "\t<dt>32</dt>\n",
       "\t\t<dd>0.613444132185184</dd>\n",
       "\t<dt>33</dt>\n",
       "\t\t<dd>1.9623745767213</dd>\n",
       "\t<dt>34</dt>\n",
       "\t\t<dd>-1.78155192351425</dd>\n",
       "\t<dt>35</dt>\n",
       "\t\t<dd>-0.591383891681433</dd>\n",
       "\t<dt>36</dt>\n",
       "\t\t<dd>2.20825092840568</dd>\n",
       "\t<dt>37</dt>\n",
       "\t\t<dd>-1.20819786093226</dd>\n",
       "\t<dt>38</dt>\n",
       "\t\t<dd>-0.156413123717261</dd>\n",
       "\t<dt>39</dt>\n",
       "\t\t<dd>-0.519505810791801</dd>\n",
       "\t<dt>40</dt>\n",
       "\t\t<dd>0.748747363738786</dd>\n",
       "\t<dt>41</dt>\n",
       "\t\t<dd>-1.31422115488243</dd>\n",
       "\t<dt>42</dt>\n",
       "\t\t<dd>4.12246053457685</dd>\n",
       "\t<dt>43</dt>\n",
       "\t\t<dd>-2.56695103434317</dd>\n",
       "\t<dt>44</dt>\n",
       "\t\t<dd>0.758675310606372</dd>\n",
       "\t<dt>45</dt>\n",
       "\t\t<dd>-1.09391921837955</dd>\n",
       "</dl>\n",
       "</dd>\n",
       "\t<dt>$effects</dt>\n",
       "\t\t<dd><dl class=dl-horizontal>\n",
       "\t<dt>(Intercept)</dt>\n",
       "\t\t<dd>-38.1622268159964</dd>\n",
       "\t<dt>angle1</dt>\n",
       "\t\t<dd>-2.34505090348556</dd>\n",
       "\t<dt>angle2</dt>\n",
       "\t\t<dd>-11.1382179579314</dd>\n",
       "\t<dt>exposure</dt>\n",
       "\t\t<dd>16.2207317486787</dd>\n",
       "\t<dt>salinity</dt>\n",
       "\t\t<dd>-9.4866963057827</dd>\n",
       "\t<dt>temperature</dt>\n",
       "\t\t<dd>-4.3760016411765</dd>\n",
       "\t<dt>NAP</dt>\n",
       "\t\t<dd>15.9874024819646</dd>\n",
       "\t<dt>penetrability</dt>\n",
       "\t\t<dd>-2.97473430318742</dd>\n",
       "\t<dt>grainsize</dt>\n",
       "\t\t<dd>-1.01208664483452</dd>\n",
       "\t<dt>humus</dt>\n",
       "\t\t<dd>0.914029161592504</dd>\n",
       "\t<dt>chalk</dt>\n",
       "\t\t<dd>-4.92117062142137</dd>\n",
       "\t<dt>sorting1</dt>\n",
       "\t\t<dd>-0.216133885811172</dd>\n",
       "\t<dt>Beach</dt>\n",
       "\t\t<dd>0.907643966185399</dd>\n",
       "\t<dt>14</dt>\n",
       "\t\t<dd>-2.30983288522606</dd>\n",
       "\t<dt>15</dt>\n",
       "\t\t<dd>-1.42534691529513</dd>\n",
       "\t<dt>16</dt>\n",
       "\t\t<dd>-0.100384262821054</dd>\n",
       "\t<dt>17</dt>\n",
       "\t\t<dd>-2.39794750061036</dd>\n",
       "\t<dt>18</dt>\n",
       "\t\t<dd>-0.952612715890304</dd>\n",
       "\t<dt>19</dt>\n",
       "\t\t<dd>-1.15338349406093</dd>\n",
       "\t<dt>20</dt>\n",
       "\t\t<dd>-2.67253513451839</dd>\n",
       "\t<dt>21</dt>\n",
       "\t\t<dd>-1.72019838857078</dd>\n",
       "\t<dt>22</dt>\n",
       "\t\t<dd>12.5288171594771</dd>\n",
       "\t<dt>23</dt>\n",
       "\t\t<dd>-0.338121342896214</dd>\n",
       "\t<dt>24</dt>\n",
       "\t\t<dd>-3.57071582483699</dd>\n",
       "\t<dt>25</dt>\n",
       "\t\t<dd>-0.854177023374292</dd>\n",
       "\t<dt>26</dt>\n",
       "\t\t<dd>-0.058535340283278</dd>\n",
       "\t<dt>27</dt>\n",
       "\t\t<dd>-4.46418213472376</dd>\n",
       "\t<dt>28</dt>\n",
       "\t\t<dd>1.77290528183586</dd>\n",
       "\t<dt>29</dt>\n",
       "\t\t<dd>1.58302571595446</dd>\n",
       "\t<dt>30</dt>\n",
       "\t\t<dd>1.27417032861035</dd>\n",
       "\t<dt>31</dt>\n",
       "\t\t<dd>-0.044660231454389</dd>\n",
       "\t<dt>32</dt>\n",
       "\t\t<dd>1.91143842968915</dd>\n",
       "\t<dt>33</dt>\n",
       "\t\t<dd>2.90307979853248</dd>\n",
       "\t<dt>34</dt>\n",
       "\t\t<dd>-0.34324235920936</dd>\n",
       "\t<dt>35</dt>\n",
       "\t\t<dd>-1.05232702203912</dd>\n",
       "\t<dt>36</dt>\n",
       "\t\t<dd>4.86162922119949</dd>\n",
       "\t<dt>37</dt>\n",
       "\t\t<dd>1.05409691564961</dd>\n",
       "\t<dt>38</dt>\n",
       "\t\t<dd>-1.07906079908776</dd>\n",
       "\t<dt>39</dt>\n",
       "\t\t<dd>-1.98801513604849</dd>\n",
       "\t<dt>40</dt>\n",
       "\t\t<dd>0.583147151338912</dd>\n",
       "\t<dt>41</dt>\n",
       "\t\t<dd>-2.85455090259095</dd>\n",
       "\t<dt>42</dt>\n",
       "\t\t<dd>2.15129513956741</dd>\n",
       "\t<dt>43</dt>\n",
       "\t\t<dd>-4.94269639504046</dd>\n",
       "\t<dt>44</dt>\n",
       "\t\t<dd>-0.233571246261068</dd>\n",
       "\t<dt>45</dt>\n",
       "\t\t<dd>-2.10288888249862</dd>\n",
       "</dl>\n",
       "</dd>\n",
       "\t<dt>$rank</dt>\n",
       "\t\t<dd>13</dd>\n",
       "\t<dt>$fitted.values</dt>\n",
       "\t\t<dd><dl class=dl-horizontal>\n",
       "\t<dt>1</dt>\n",
       "\t\t<dd>9.50275281317293</dd>\n",
       "\t<dt>2</dt>\n",
       "\t\t<dd>11.8984751882988</dd>\n",
       "\t<dt>3</dt>\n",
       "\t\t<dd>12.3342578937076</dd>\n",
       "\t<dt>4</dt>\n",
       "\t\t<dd>7.79429958833418</dd>\n",
       "\t<dt>5</dt>\n",
       "\t\t<dd>11.094426575108</dd>\n",
       "\t<dt>6</dt>\n",
       "\t\t<dd>9.35281510713568</dd>\n",
       "\t<dt>7</dt>\n",
       "\t\t<dd>10.7128569671849</dd>\n",
       "\t<dt>8</dt>\n",
       "\t\t<dd>12.1484442410747</dd>\n",
       "\t<dt>9</dt>\n",
       "\t\t<dd>13.779354589356</dd>\n",
       "\t<dt>10</dt>\n",
       "\t\t<dd>16.2273541602377</dd>\n",
       "\t<dt>11</dt>\n",
       "\t\t<dd>6.79500444540365</dd>\n",
       "\t<dt>12</dt>\n",
       "\t\t<dd>-1.15595388939124</dd>\n",
       "\t<dt>13</dt>\n",
       "\t\t<dd>4.14551781273386</dd>\n",
       "\t<dt>14</dt>\n",
       "\t\t<dd>5.06063224452412</dd>\n",
       "\t<dt>15</dt>\n",
       "\t\t<dd>3.98510298941569</dd>\n",
       "\t<dt>16</dt>\n",
       "\t\t<dd>1.19342543421298</dd>\n",
       "\t<dt>17</dt>\n",
       "\t\t<dd>2.97656253843134</dd>\n",
       "\t<dt>18</dt>\n",
       "\t\t<dd>1.05920461647879</dd>\n",
       "\t<dt>19</dt>\n",
       "\t\t<dd>2.02960907741563</dd>\n",
       "\t<dt>20</dt>\n",
       "\t\t<dd>5.3932604975429</dd>\n",
       "\t<dt>21</dt>\n",
       "\t\t<dd>5.75136239908874</dd>\n",
       "\t<dt>22</dt>\n",
       "\t\t<dd>10.3956312150304</dd>\n",
       "\t<dt>23</dt>\n",
       "\t\t<dd>7.31738459513248</dd>\n",
       "\t<dt>24</dt>\n",
       "\t\t<dd>4.43438306754577</dd>\n",
       "\t<dt>25</dt>\n",
       "\t\t<dd>8.79347740389545</dd>\n",
       "\t<dt>26</dt>\n",
       "\t\t<dd>4.61492023075771</dd>\n",
       "\t<dt>27</dt>\n",
       "\t\t<dd>5.85958477456446</dd>\n",
       "\t<dt>28</dt>\n",
       "\t\t<dd>-0.741348785492617</dd>\n",
       "\t<dt>29</dt>\n",
       "\t\t<dd>5.856289448495</dd>\n",
       "\t<dt>30</dt>\n",
       "\t\t<dd>3.01430801876731</dd>\n",
       "\t<dt>31</dt>\n",
       "\t\t<dd>3.55841356982911</dd>\n",
       "\t<dt>32</dt>\n",
       "\t\t<dd>0.386555867814816</dd>\n",
       "\t<dt>33</dt>\n",
       "\t\t<dd>-0.962374576721295</dd>\n",
       "\t<dt>34</dt>\n",
       "\t\t<dd>4.78155192351425</dd>\n",
       "\t<dt>35</dt>\n",
       "\t\t<dd>4.59138389168143</dd>\n",
       "\t<dt>36</dt>\n",
       "\t\t<dd>0.791749071594324</dd>\n",
       "\t<dt>37</dt>\n",
       "\t\t<dd>6.20819786093226</dd>\n",
       "\t<dt>38</dt>\n",
       "\t\t<dd>7.15641312371726</dd>\n",
       "\t<dt>39</dt>\n",
       "\t\t<dd>5.5195058107918</dd>\n",
       "\t<dt>40</dt>\n",
       "\t\t<dd>-0.748747363738786</dd>\n",
       "\t<dt>41</dt>\n",
       "\t\t<dd>8.31422115488242</dd>\n",
       "\t<dt>42</dt>\n",
       "\t\t<dd>6.87753946542315</dd>\n",
       "\t<dt>43</dt>\n",
       "\t\t<dd>5.56695103434317</dd>\n",
       "\t<dt>44</dt>\n",
       "\t\t<dd>-0.758675310606372</dd>\n",
       "\t<dt>45</dt>\n",
       "\t\t<dd>3.09391921837955</dd>\n",
       "</dl>\n",
       "</dd>\n",
       "\t<dt>$assign</dt>\n",
       "\t\t<dd><ol class=list-inline>\n",
       "\t<li>0</li>\n",
       "\t<li>1</li>\n",
       "\t<li>2</li>\n",
       "\t<li>3</li>\n",
       "\t<li>4</li>\n",
       "\t<li>5</li>\n",
       "\t<li>6</li>\n",
       "\t<li>7</li>\n",
       "\t<li>8</li>\n",
       "\t<li>9</li>\n",
       "\t<li>10</li>\n",
       "\t<li>11</li>\n",
       "\t<li>12</li>\n",
       "</ol>\n",
       "</dd>\n",
       "</dl>\n"
      ],
      "text/latex": [
       "\\begin{description}\n",
       "\\item[\\$coefficients] \\begin{description*}\n",
       "\\item[(Intercept)] -43.3711597292264\n",
       "\\item[angle1] -0.00939667347690646\n",
       "\\item[angle2] 0.0537600729311559\n",
       "\\item[exposure] -0.541853279636416\n",
       "\\item[salinity] 1.02063019720769\n",
       "\\item[temperature] 1.19551649617875\n",
       "\\item[NAP] -2.76511997366234\n",
       "\\item[penetrability] -0.00644305335494377\n",
       "\\item[grainsize] 0.0198334768113294\n",
       "\\item[humus] 0.306015315401414\n",
       "\\item[chalk] -0.137526099251423\n",
       "\\item[sorting1] 0.00496753542119953\n",
       "\\item[Beach] -0.228776798053635\n",
       "\\end{description*}\n",
       "\n",
       "\\item[\\$residuals] \\begin{description*}\n",
       "\\item[1] 1.49724718682707\n",
       "\\item[2] -1.89847518829881\n",
       "\\item[3] 0.665742106292412\n",
       "\\item[4] 3.20570041166582\n",
       "\\item[5] -1.09442657510802\n",
       "\\item[6] -1.35281510713568\n",
       "\\item[7] -1.71285696718487\n",
       "\\item[8] -4.14844424107474\n",
       "\\item[9] 5.22064541064402\n",
       "\\item[10] 0.772645839762325\n",
       "\\item[11] -0.795004445403651\n",
       "\\item[12] 2.15595388939124\n",
       "\\item[13] -0.145517812733861\n",
       "\\item[14] -2.06063224452412\n",
       "\\item[15] -0.985102989415687\n",
       "\\item[16] -0.193425434212978\n",
       "\\item[17] 0.023437461568664\n",
       "\\item[18] 1.94079538352121\n",
       "\\item[19] -1.02960907741563\n",
       "\\item[20] -1.3932604975429\n",
       "\\item[21] -2.75136239908874\n",
       "\\item[22] 11.6043687849696\n",
       "\\item[23] -1.31738459513248\n",
       "\\item[24] -4.43438306754577\n",
       "\\item[25] -2.79347740389545\n",
       "\\item[26] 0.385079769242294\n",
       "\\item[27] -1.85958477456446\n",
       "\\item[28] 1.74134878549262\n",
       "\\item[29] 0.143710551505003\n",
       "\\item[30] 0.985691981232692\n",
       "\\item[31] -1.55841356982911\n",
       "\\item[32] 0.613444132185184\n",
       "\\item[33] 1.9623745767213\n",
       "\\item[34] -1.78155192351425\n",
       "\\item[35] -0.591383891681433\n",
       "\\item[36] 2.20825092840568\n",
       "\\item[37] -1.20819786093226\n",
       "\\item[38] -0.156413123717261\n",
       "\\item[39] -0.519505810791801\n",
       "\\item[40] 0.748747363738786\n",
       "\\item[41] -1.31422115488243\n",
       "\\item[42] 4.12246053457685\n",
       "\\item[43] -2.56695103434317\n",
       "\\item[44] 0.758675310606372\n",
       "\\item[45] -1.09391921837955\n",
       "\\end{description*}\n",
       "\n",
       "\\item[\\$effects] \\begin{description*}\n",
       "\\item[(Intercept)] -38.1622268159964\n",
       "\\item[angle1] -2.34505090348556\n",
       "\\item[angle2] -11.1382179579314\n",
       "\\item[exposure] 16.2207317486787\n",
       "\\item[salinity] -9.4866963057827\n",
       "\\item[temperature] -4.3760016411765\n",
       "\\item[NAP] 15.9874024819646\n",
       "\\item[penetrability] -2.97473430318742\n",
       "\\item[grainsize] -1.01208664483452\n",
       "\\item[humus] 0.914029161592504\n",
       "\\item[chalk] -4.92117062142137\n",
       "\\item[sorting1] -0.216133885811172\n",
       "\\item[Beach] 0.907643966185399\n",
       "\\item[14] -2.30983288522606\n",
       "\\item[15] -1.42534691529513\n",
       "\\item[16] -0.100384262821054\n",
       "\\item[17] -2.39794750061036\n",
       "\\item[18] -0.952612715890304\n",
       "\\item[19] -1.15338349406093\n",
       "\\item[20] -2.67253513451839\n",
       "\\item[21] -1.72019838857078\n",
       "\\item[22] 12.5288171594771\n",
       "\\item[23] -0.338121342896214\n",
       "\\item[24] -3.57071582483699\n",
       "\\item[25] -0.854177023374292\n",
       "\\item[26] -0.058535340283278\n",
       "\\item[27] -4.46418213472376\n",
       "\\item[28] 1.77290528183586\n",
       "\\item[29] 1.58302571595446\n",
       "\\item[30] 1.27417032861035\n",
       "\\item[31] -0.044660231454389\n",
       "\\item[32] 1.91143842968915\n",
       "\\item[33] 2.90307979853248\n",
       "\\item[34] -0.34324235920936\n",
       "\\item[35] -1.05232702203912\n",
       "\\item[36] 4.86162922119949\n",
       "\\item[37] 1.05409691564961\n",
       "\\item[38] -1.07906079908776\n",
       "\\item[39] -1.98801513604849\n",
       "\\item[40] 0.583147151338912\n",
       "\\item[41] -2.85455090259095\n",
       "\\item[42] 2.15129513956741\n",
       "\\item[43] -4.94269639504046\n",
       "\\item[44] -0.233571246261068\n",
       "\\item[45] -2.10288888249862\n",
       "\\end{description*}\n",
       "\n",
       "\\item[\\$rank] 13\n",
       "\\item[\\$fitted.values] \\begin{description*}\n",
       "\\item[1] 9.50275281317293\n",
       "\\item[2] 11.8984751882988\n",
       "\\item[3] 12.3342578937076\n",
       "\\item[4] 7.79429958833418\n",
       "\\item[5] 11.094426575108\n",
       "\\item[6] 9.35281510713568\n",
       "\\item[7] 10.7128569671849\n",
       "\\item[8] 12.1484442410747\n",
       "\\item[9] 13.779354589356\n",
       "\\item[10] 16.2273541602377\n",
       "\\item[11] 6.79500444540365\n",
       "\\item[12] -1.15595388939124\n",
       "\\item[13] 4.14551781273386\n",
       "\\item[14] 5.06063224452412\n",
       "\\item[15] 3.98510298941569\n",
       "\\item[16] 1.19342543421298\n",
       "\\item[17] 2.97656253843134\n",
       "\\item[18] 1.05920461647879\n",
       "\\item[19] 2.02960907741563\n",
       "\\item[20] 5.3932604975429\n",
       "\\item[21] 5.75136239908874\n",
       "\\item[22] 10.3956312150304\n",
       "\\item[23] 7.31738459513248\n",
       "\\item[24] 4.43438306754577\n",
       "\\item[25] 8.79347740389545\n",
       "\\item[26] 4.61492023075771\n",
       "\\item[27] 5.85958477456446\n",
       "\\item[28] -0.741348785492617\n",
       "\\item[29] 5.856289448495\n",
       "\\item[30] 3.01430801876731\n",
       "\\item[31] 3.55841356982911\n",
       "\\item[32] 0.386555867814816\n",
       "\\item[33] -0.962374576721295\n",
       "\\item[34] 4.78155192351425\n",
       "\\item[35] 4.59138389168143\n",
       "\\item[36] 0.791749071594324\n",
       "\\item[37] 6.20819786093226\n",
       "\\item[38] 7.15641312371726\n",
       "\\item[39] 5.5195058107918\n",
       "\\item[40] -0.748747363738786\n",
       "\\item[41] 8.31422115488242\n",
       "\\item[42] 6.87753946542315\n",
       "\\item[43] 5.56695103434317\n",
       "\\item[44] -0.758675310606372\n",
       "\\item[45] 3.09391921837955\n",
       "\\end{description*}\n",
       "\n",
       "\\item[\\$assign] \\begin{enumerate*}\n",
       "\\item 0\n",
       "\\item 1\n",
       "\\item 2\n",
       "\\item 3\n",
       "\\item 4\n",
       "\\item 5\n",
       "\\item 6\n",
       "\\item 7\n",
       "\\item 8\n",
       "\\item 9\n",
       "\\item 10\n",
       "\\item 11\n",
       "\\item 12\n",
       "\\end{enumerate*}\n",
       "\n",
       "\\end{description}\n"
      ],
      "text/markdown": [
       "$coefficients\n",
       ":   (Intercept)\n",
       ":   -43.3711597292264angle1\n",
       ":   -0.00939667347690646angle2\n",
       ":   0.0537600729311559exposure\n",
       ":   -0.541853279636416salinity\n",
       ":   1.02063019720769temperature\n",
       ":   1.19551649617875NAP\n",
       ":   -2.76511997366234penetrability\n",
       ":   -0.00644305335494377grainsize\n",
       ":   0.0198334768113294humus\n",
       ":   0.306015315401414chalk\n",
       ":   -0.137526099251423sorting1\n",
       ":   0.00496753542119953Beach\n",
       ":   -0.228776798053635\n",
       "\n",
       "\n",
       "$residuals\n",
       ":   1\n",
       ":   1.497247186827072\n",
       ":   -1.898475188298813\n",
       ":   0.6657421062924124\n",
       ":   3.205700411665825\n",
       ":   -1.094426575108026\n",
       ":   -1.352815107135687\n",
       ":   -1.712856967184878\n",
       ":   -4.148444241074749\n",
       ":   5.2206454106440210\n",
       ":   0.77264583976232511\n",
       ":   -0.79500444540365112\n",
       ":   2.1559538893912413\n",
       ":   -0.14551781273386114\n",
       ":   -2.0606322445241215\n",
       ":   -0.98510298941568716\n",
       ":   -0.19342543421297817\n",
       ":   0.02343746156866418\n",
       ":   1.9407953835212119\n",
       ":   -1.0296090774156320\n",
       ":   -1.393260497542921\n",
       ":   -2.7513623990887422\n",
       ":   11.604368784969623\n",
       ":   -1.3173845951324824\n",
       ":   -4.4343830675457725\n",
       ":   -2.7934774038954526\n",
       ":   0.38507976924229427\n",
       ":   -1.8595847745644628\n",
       ":   1.7413487854926229\n",
       ":   0.14371055150500330\n",
       ":   0.98569198123269231\n",
       ":   -1.5584135698291132\n",
       ":   0.61344413218518433\n",
       ":   1.962374576721334\n",
       ":   -1.7815519235142535\n",
       ":   -0.59138389168143336\n",
       ":   2.2082509284056837\n",
       ":   -1.2081978609322638\n",
       ":   -0.15641312371726139\n",
       ":   -0.51950581079180140\n",
       ":   0.74874736373878641\n",
       ":   -1.3142211548824342\n",
       ":   4.1224605345768543\n",
       ":   -2.5669510343431744\n",
       ":   0.75867531060637245\n",
       ":   -1.09391921837955\n",
       "\n",
       "\n",
       "$effects\n",
       ":   (Intercept)\n",
       ":   -38.1622268159964angle1\n",
       ":   -2.34505090348556angle2\n",
       ":   -11.1382179579314exposure\n",
       ":   16.2207317486787salinity\n",
       ":   -9.4866963057827temperature\n",
       ":   -4.3760016411765NAP\n",
       ":   15.9874024819646penetrability\n",
       ":   -2.97473430318742grainsize\n",
       ":   -1.01208664483452humus\n",
       ":   0.914029161592504chalk\n",
       ":   -4.92117062142137sorting1\n",
       ":   -0.216133885811172Beach\n",
       ":   0.90764396618539914\n",
       ":   -2.3098328852260615\n",
       ":   -1.4253469152951316\n",
       ":   -0.10038426282105417\n",
       ":   -2.3979475006103618\n",
       ":   -0.95261271589030419\n",
       ":   -1.1533834940609320\n",
       ":   -2.6725351345183921\n",
       ":   -1.7201983885707822\n",
       ":   12.528817159477123\n",
       ":   -0.33812134289621424\n",
       ":   -3.5707158248369925\n",
       ":   -0.85417702337429226\n",
       ":   -0.05853534028327827\n",
       ":   -4.4641821347237628\n",
       ":   1.7729052818358629\n",
       ":   1.5830257159544630\n",
       ":   1.2741703286103531\n",
       ":   -0.04466023145438932\n",
       ":   1.9114384296891533\n",
       ":   2.9030797985324834\n",
       ":   -0.3432423592093635\n",
       ":   -1.0523270220391236\n",
       ":   4.8616292211994937\n",
       ":   1.0540969156496138\n",
       ":   -1.0790607990877639\n",
       ":   -1.9880151360484940\n",
       ":   0.58314715133891241\n",
       ":   -2.8545509025909542\n",
       ":   2.1512951395674143\n",
       ":   -4.9426963950404644\n",
       ":   -0.23357124626106845\n",
       ":   -2.10288888249862\n",
       "\n",
       "\n",
       "$rank\n",
       ":   13\n",
       "$fitted.values\n",
       ":   1\n",
       ":   9.502752813172932\n",
       ":   11.89847518829883\n",
       ":   12.33425789370764\n",
       ":   7.794299588334185\n",
       ":   11.0944265751086\n",
       ":   9.352815107135687\n",
       ":   10.71285696718498\n",
       ":   12.14844424107479\n",
       ":   13.77935458935610\n",
       ":   16.227354160237711\n",
       ":   6.7950044454036512\n",
       ":   -1.1559538893912413\n",
       ":   4.1455178127338614\n",
       ":   5.0606322445241215\n",
       ":   3.9851029894156916\n",
       ":   1.1934254342129817\n",
       ":   2.9765625384313418\n",
       ":   1.0592046164787919\n",
       ":   2.0296090774156320\n",
       ":   5.393260497542921\n",
       ":   5.7513623990887422\n",
       ":   10.395631215030423\n",
       ":   7.3173845951324824\n",
       ":   4.4343830675457725\n",
       ":   8.7934774038954526\n",
       ":   4.6149202307577127\n",
       ":   5.8595847745644628\n",
       ":   -0.74134878549261729\n",
       ":   5.85628944849530\n",
       ":   3.0143080187673131\n",
       ":   3.5584135698291132\n",
       ":   0.38655586781481633\n",
       ":   -0.96237457672129534\n",
       ":   4.7815519235142535\n",
       ":   4.5913838916814336\n",
       ":   0.79174907159432437\n",
       ":   6.2081978609322638\n",
       ":   7.1564131237172639\n",
       ":   5.519505810791840\n",
       ":   -0.74874736373878641\n",
       ":   8.3142211548824242\n",
       ":   6.8775394654231543\n",
       ":   5.5669510343431744\n",
       ":   -0.75867531060637245\n",
       ":   3.09391921837955\n",
       "\n",
       "\n",
       "$assign\n",
       ":   1. 0\n",
       "2. 1\n",
       "3. 2\n",
       "4. 3\n",
       "5. 4\n",
       "6. 5\n",
       "7. 6\n",
       "8. 7\n",
       "9. 8\n",
       "10. 9\n",
       "11. 10\n",
       "12. 11\n",
       "13. 12\n",
       "\n",
       "\n",
       "\n",
       "\n",
       "\n"
      ],
      "text/plain": [
       "$coefficients\n",
       "  (Intercept)        angle1        angle2      exposure      salinity \n",
       "-43.371159729  -0.009396673   0.053760073  -0.541853280   1.020630197 \n",
       "  temperature           NAP penetrability     grainsize         humus \n",
       "  1.195516496  -2.765119974  -0.006443053   0.019833477   0.306015315 \n",
       "        chalk      sorting1         Beach \n",
       " -0.137526099   0.004967535  -0.228776798 \n",
       "\n",
       "$residuals\n",
       "          1           2           3           4           5           6 \n",
       " 1.49724719 -1.89847519  0.66574211  3.20570041 -1.09442658 -1.35281511 \n",
       "          7           8           9          10          11          12 \n",
       "-1.71285697 -4.14844424  5.22064541  0.77264584 -0.79500445  2.15595389 \n",
       "         13          14          15          16          17          18 \n",
       "-0.14551781 -2.06063224 -0.98510299 -0.19342543  0.02343746  1.94079538 \n",
       "         19          20          21          22          23          24 \n",
       "-1.02960908 -1.39326050 -2.75136240 11.60436878 -1.31738460 -4.43438307 \n",
       "         25          26          27          28          29          30 \n",
       "-2.79347740  0.38507977 -1.85958477  1.74134879  0.14371055  0.98569198 \n",
       "         31          32          33          34          35          36 \n",
       "-1.55841357  0.61344413  1.96237458 -1.78155192 -0.59138389  2.20825093 \n",
       "         37          38          39          40          41          42 \n",
       "-1.20819786 -0.15641312 -0.51950581  0.74874736 -1.31422115  4.12246053 \n",
       "         43          44          45 \n",
       "-2.56695103  0.75867531 -1.09391922 \n",
       "\n",
       "$effects\n",
       "  (Intercept)        angle1        angle2      exposure      salinity \n",
       " -38.16222682   -2.34505090  -11.13821796   16.22073175   -9.48669631 \n",
       "  temperature           NAP penetrability     grainsize         humus \n",
       "  -4.37600164   15.98740248   -2.97473430   -1.01208664    0.91402916 \n",
       "        chalk      sorting1         Beach                             \n",
       "  -4.92117062   -0.21613389    0.90764397   -2.30983289   -1.42534692 \n",
       "                                                                      \n",
       "  -0.10038426   -2.39794750   -0.95261272   -1.15338349   -2.67253513 \n",
       "                                                                      \n",
       "  -1.72019839   12.52881716   -0.33812134   -3.57071582   -0.85417702 \n",
       "                                                                      \n",
       "  -0.05853534   -4.46418213    1.77290528    1.58302572    1.27417033 \n",
       "                                                                      \n",
       "  -0.04466023    1.91143843    2.90307980   -0.34324236   -1.05232702 \n",
       "                                                                      \n",
       "   4.86162922    1.05409692   -1.07906080   -1.98801514    0.58314715 \n",
       "                                                                      \n",
       "  -2.85455090    2.15129514   -4.94269640   -0.23357125   -2.10288888 \n",
       "\n",
       "$rank\n",
       "[1] 13\n",
       "\n",
       "$fitted.values\n",
       "         1          2          3          4          5          6          7 \n",
       " 9.5027528 11.8984752 12.3342579  7.7942996 11.0944266  9.3528151 10.7128570 \n",
       "         8          9         10         11         12         13         14 \n",
       "12.1484442 13.7793546 16.2273542  6.7950044 -1.1559539  4.1455178  5.0606322 \n",
       "        15         16         17         18         19         20         21 \n",
       " 3.9851030  1.1934254  2.9765625  1.0592046  2.0296091  5.3932605  5.7513624 \n",
       "        22         23         24         25         26         27         28 \n",
       "10.3956312  7.3173846  4.4343831  8.7934774  4.6149202  5.8595848 -0.7413488 \n",
       "        29         30         31         32         33         34         35 \n",
       " 5.8562894  3.0143080  3.5584136  0.3865559 -0.9623746  4.7815519  4.5913839 \n",
       "        36         37         38         39         40         41         42 \n",
       " 0.7917491  6.2081979  7.1564131  5.5195058 -0.7487474  8.3142212  6.8775395 \n",
       "        43         44         45 \n",
       " 5.5669510 -0.7586753  3.0939192 \n",
       "\n",
       "$assign\n",
       " [1]  0  1  2  3  4  5  6  7  8  9 10 11 12\n"
      ]
     },
     "metadata": {},
     "output_type": "display_data"
    }
   ],
   "source": [
    "# Write your code here\n",
    "lm_richness <- lm(richness~., data = survey_data_richness[ ,2:14])\n",
    "head(lm_richness)"
   ]
  },
  {
   "cell_type": "code",
   "execution_count": 44,
   "id": "7517a0c9",
   "metadata": {},
   "outputs": [
    {
     "data": {
      "text/plain": [
       "\n",
       "Call:\n",
       "lm(formula = richness ~ angle1, data = survey_data_richness)\n",
       "\n",
       "Residuals:\n",
       "   Min     1Q Median     3Q    Max \n",
       "-6.465 -3.284 -1.456  1.777 16.503 \n",
       "\n",
       "Coefficients:\n",
       "            Estimate Std. Error t value Pr(>|t|)    \n",
       "(Intercept) 5.347466   1.052065   5.083 7.71e-06 ***\n",
       "angle1      0.006786   0.014611   0.464    0.645    \n",
       "---\n",
       "Signif. codes:  0 '***' 0.001 '**' 0.01 '*' 0.05 '.' 0.1 ' ' 1\n",
       "\n",
       "Residual standard error: 5.049 on 43 degrees of freedom\n",
       "Multiple R-squared:  0.004992,\tAdjusted R-squared:  -0.01815 \n",
       "F-statistic: 0.2157 on 1 and 43 DF,  p-value: 0.6447\n"
      ]
     },
     "metadata": {},
     "output_type": "display_data"
    }
   ],
   "source": [
    "# Richness is compared using each of the data's variables (excluding week) and summaries are shown for each.\n",
    "summary(lm(richness~angle1, data = survey_data_richness))"
   ]
  },
  {
   "cell_type": "code",
   "execution_count": 51,
   "id": "f479a5e2",
   "metadata": {},
   "outputs": [
    {
     "data": {
      "image/png": "[encoded data removed]",
      "text/plain": [
       "plot without title"
      ]
     },
     "metadata": {},
     "output_type": "display_data"
    }
   ],
   "source": [
    "ggplot(survey_data_richness) +\n",
    "  geom_point(aes(x=angle1, y=richness)) +\n",
    "  geom_abline(intercept = lm_richness$coefficients[1], slope = lm_richness$coefficients[2], color = 2, size=2, alpha=0.5)"
   ]
  },
  {
   "cell_type": "code",
   "execution_count": 52,
   "id": "abf33eea",
   "metadata": {},
   "outputs": [
    {
     "data": {
      "text/plain": [
       "\n",
       "Call:\n",
       "lm(formula = richness ~ angle2, data = survey_data_richness)\n",
       "\n",
       "Residuals:\n",
       "    Min      1Q  Median      3Q     Max \n",
       "-7.8623 -3.1662 -0.4506  2.1377 18.4024 \n",
       "\n",
       "Coefficients:\n",
       "            Estimate Std. Error t value Pr(>|t|)  \n",
       "(Intercept)  2.40352    1.57113   1.530   0.1334  \n",
       "angle2       0.05686    0.02425   2.345   0.0237 *\n",
       "---\n",
       "Signif. codes:  0 '***' 0.001 '**' 0.01 '*' 0.05 '.' 0.1 ' ' 1\n",
       "\n",
       "Residual standard error: 4.766 on 43 degrees of freedom\n",
       "Multiple R-squared:  0.1133,\tAdjusted R-squared:  0.09272 \n",
       "F-statistic: 5.497 on 1 and 43 DF,  p-value: 0.02374\n"
      ]
     },
     "metadata": {},
     "output_type": "display_data"
    }
   ],
   "source": [
    "summary(lm(richness~angle2, data = survey_data_richness))"
   ]
  },
  {
   "cell_type": "code",
   "execution_count": 53,
   "id": "351728de",
   "metadata": {},
   "outputs": [
    {
     "data": {
      "image/png": "[encoded data removed]",
      "text/plain": [
       "plot without title"
      ]
     },
     "metadata": {},
     "output_type": "display_data"
    }
   ],
   "source": [
    "ggplot(survey_data_richness) + \n",
    "  geom_point(aes(x=angle2, y=richness)) + \n",
    "  geom_abline(intercept = lm_richness$coefficients[1], slope = lm_richness$coefficients[2], color = 2, size=2, alpha=0.5)"
   ]
  },
  {
   "cell_type": "code",
   "execution_count": 41,
   "id": "d6ee4289",
   "metadata": {
    "scrolled": true
   },
   "outputs": [
    {
     "data": {
      "text/plain": [
       "\n",
       "Call:\n",
       "lm(formula = richness ~ exposure, data = survey_data_richness)\n",
       "\n",
       "Residuals:\n",
       "    Min      1Q  Median      3Q     Max \n",
       "-6.3882 -2.2412 -0.2412  1.7588 15.6118 \n",
       "\n",
       "Coefficients:\n",
       "            Estimate Std. Error t value Pr(>|t|)    \n",
       "(Intercept)  37.8588     6.8682   5.512 1.86e-06 ***\n",
       "exposure     -3.1471     0.6692  -4.703 2.66e-05 ***\n",
       "---\n",
       "Signif. codes:  0 '***' 0.001 '**' 0.01 '*' 0.05 '.' 0.1 ' ' 1\n",
       "\n",
       "Residual standard error: 4.113 on 43 degrees of freedom\n",
       "Multiple R-squared:  0.3396,\tAdjusted R-squared:  0.3243 \n",
       "F-statistic: 22.11 on 1 and 43 DF,  p-value: 2.664e-05\n"
      ]
     },
     "metadata": {},
     "output_type": "display_data"
    }
   ],
   "source": [
    "summary(lm(richness~exposure, data = survey_data_richness))"
   ]
  },
  {
   "cell_type": "code",
   "execution_count": 55,
   "id": "9be8f4ea",
   "metadata": {},
   "outputs": [
    {
     "data": {
      "image/png": "[encoded data removed]",
      "text/plain": [
       "plot without title"
      ]
     },
     "metadata": {},
     "output_type": "display_data"
    }
   ],
   "source": [
    "ggplot(survey_data_richness) + \n",
    "  geom_point(aes(x=exposure, y=richness)) + \n",
    "  geom_abline(intercept = lm_richness$coefficients[1], slope = lm_richness$coefficients[2], color = 2, size=2, alpha=0.5)"
   ]
  },
  {
   "cell_type": "code",
   "execution_count": 42,
   "id": "253bd019",
   "metadata": {
    "scrolled": true
   },
   "outputs": [
    {
     "data": {
      "text/plain": [
       "\n",
       "Call:\n",
       "lm(formula = richness ~ salinity, data = survey_data_richness)\n",
       "\n",
       "Residuals:\n",
       "   Min     1Q Median     3Q    Max \n",
       "-9.732 -2.689 -1.058  2.391 12.268 \n",
       "\n",
       "Coefficients:\n",
       "            Estimate Std. Error t value Pr(>|t|)    \n",
       "(Intercept) -57.4246    15.1286  -3.796 0.000456 ***\n",
       "salinity      2.2460     0.5379   4.176 0.000142 ***\n",
       "---\n",
       "Signif. codes:  0 '***' 0.001 '**' 0.01 '*' 0.05 '.' 0.1 ' ' 1\n",
       "\n",
       "Residual standard error: 4.269 on 43 degrees of freedom\n",
       "Multiple R-squared:  0.2885,\tAdjusted R-squared:  0.2719 \n",
       "F-statistic: 17.43 on 1 and 43 DF,  p-value: 0.0001423\n"
      ]
     },
     "metadata": {},
     "output_type": "display_data"
    }
   ],
   "source": [
    "summary(lm(richness~salinity, data = survey_data_richness))"
   ]
  },
  {
   "cell_type": "code",
   "execution_count": 56,
   "id": "c6a1ae43",
   "metadata": {},
   "outputs": [
    {
     "data": {
      "image/png": "[encoded data removed]",
      "text/plain": [
       "plot without title"
      ]
     },
     "metadata": {},
     "output_type": "display_data"
    }
   ],
   "source": [
    "ggplot(survey_data_richness) + \n",
    "  geom_point(aes(x=salinity, y=richness)) + \n",
    "  geom_abline(intercept = lm_richness$coefficients[1], slope = lm_richness$coefficients[2], color = 2, size=2, alpha=0.5)"
   ]
  },
  {
   "cell_type": "code",
   "execution_count": 43,
   "id": "8ac73ee2",
   "metadata": {
    "scrolled": true
   },
   "outputs": [
    {
     "data": {
      "text/plain": [
       "\n",
       "Call:\n",
       "lm(formula = richness ~ temperature, data = survey_data_richness)\n",
       "\n",
       "Residuals:\n",
       "    Min      1Q  Median      3Q     Max \n",
       "-6.8314 -3.4405 -0.7782  1.2218 15.6323 \n",
       "\n",
       "Coefficients:\n",
       "            Estimate Std. Error t value Pr(>|t|)\n",
       "(Intercept)  -6.7458     8.8627  -0.761    0.451\n",
       "temperature   0.6623     0.4704   1.408    0.166\n",
       "\n",
       "Residual standard error: 4.949 on 43 degrees of freedom\n",
       "Multiple R-squared:  0.04407,\tAdjusted R-squared:  0.02184 \n",
       "F-statistic: 1.982 on 1 and 43 DF,  p-value: 0.1663\n"
      ]
     },
     "metadata": {},
     "output_type": "display_data"
    }
   ],
   "source": [
    "summary(lm(richness~temperature, data = survey_data_richness))"
   ]
  },
  {
   "cell_type": "code",
   "execution_count": 57,
   "id": "a6c363b9",
   "metadata": {},
   "outputs": [
    {
     "data": {
      "image/png": "[encoded data removed]",
      "text/plain": [
       "plot without title"
      ]
     },
     "metadata": {},
     "output_type": "display_data"
    }
   ],
   "source": [
    "ggplot(survey_data_richness) + \n",
    "  geom_point(aes(x=temperature, y=richness)) + \n",
    "  geom_abline(intercept = lm_richness$coefficients[1], slope = lm_richness$coefficients[2], color = 2, size=2, alpha=0.5)"
   ]
  },
  {
   "cell_type": "code",
   "execution_count": 45,
   "id": "40b3c49c",
   "metadata": {
    "scrolled": true
   },
   "outputs": [
    {
     "data": {
      "text/plain": [
       "\n",
       "Call:\n",
       "lm(formula = richness ~ NAP, data = survey_data_richness)\n",
       "\n",
       "Residuals:\n",
       "    Min      1Q  Median      3Q     Max \n",
       "-5.0675 -2.7607 -0.8029  1.3534 13.8723 \n",
       "\n",
       "Coefficients:\n",
       "            Estimate Std. Error t value Pr(>|t|)    \n",
       "(Intercept)   6.6857     0.6578  10.164 5.25e-13 ***\n",
       "NAP          -2.8669     0.6307  -4.545 4.42e-05 ***\n",
       "---\n",
       "Signif. codes:  0 '***' 0.001 '**' 0.01 '*' 0.05 '.' 0.1 ' ' 1\n",
       "\n",
       "Residual standard error: 4.16 on 43 degrees of freedom\n",
       "Multiple R-squared:  0.3245,\tAdjusted R-squared:  0.3088 \n",
       "F-statistic: 20.66 on 1 and 43 DF,  p-value: 4.418e-05\n"
      ]
     },
     "metadata": {},
     "output_type": "display_data"
    }
   ],
   "source": [
    "summary(lm(richness~NAP, data = survey_data_richness))"
   ]
  },
  {
   "cell_type": "code",
   "execution_count": 58,
   "id": "a7251550",
   "metadata": {},
   "outputs": [
    {
     "data": {
      "image/png": "[encoded data removed]",
      "text/plain": [
       "plot without title"
      ]
     },
     "metadata": {},
     "output_type": "display_data"
    }
   ],
   "source": [
    "ggplot(survey_data_richness) + \n",
    "  geom_point(aes(x=NAP, y=richness)) + \n",
    "  geom_abline(intercept = lm_richness$coefficients[1], slope = lm_richness$coefficients[2], color = 2, size=2, alpha=0.5)"
   ]
  },
  {
   "cell_type": "code",
   "execution_count": 46,
   "id": "808df10d",
   "metadata": {
    "scrolled": true
   },
   "outputs": [
    {
     "data": {
      "text/plain": [
       "\n",
       "Call:\n",
       "lm(formula = richness ~ penetrability, data = survey_data_richness)\n",
       "\n",
       "Residuals:\n",
       "   Min     1Q Median     3Q    Max \n",
       "-5.909 -2.852 -1.761  2.139 16.166 \n",
       "\n",
       "Coefficients:\n",
       "               Estimate Std. Error t value Pr(>|t|)   \n",
       "(Intercept)    6.953387   2.068100   3.362  0.00163 **\n",
       "penetrability -0.004369   0.006658  -0.656  0.51519   \n",
       "---\n",
       "Signif. codes:  0 '***' 0.001 '**' 0.01 '*' 0.05 '.' 0.1 ' ' 1\n",
       "\n",
       "Residual standard error: 5.036 on 43 degrees of freedom\n",
       "Multiple R-squared:  0.009915,\tAdjusted R-squared:  -0.01311 \n",
       "F-statistic: 0.4306 on 1 and 43 DF,  p-value: 0.5152\n"
      ]
     },
     "metadata": {},
     "output_type": "display_data"
    }
   ],
   "source": [
    "summary(lm(richness~penetrability, data = survey_data_richness))"
   ]
  },
  {
   "cell_type": "code",
   "execution_count": 61,
   "id": "391d51ae",
   "metadata": {},
   "outputs": [
    {
     "data": {
      "image/png": "[encoded data removed]",
      "text/plain": [
       "plot without title"
      ]
     },
     "metadata": {},
     "output_type": "display_data"
    }
   ],
   "source": [
    "ggplot(survey_data_richness) + \n",
    "  geom_point(aes(x=penetrability, y=richness)) + \n",
    "  geom_abline(intercept = lm_richness$coefficients[1], slope = lm_richness$coefficients[2], color = 2, size=2, alpha=0.5)"
   ]
  },
  {
   "cell_type": "code",
   "execution_count": 64,
   "id": "433dc409",
   "metadata": {
    "scrolled": true
   },
   "outputs": [
    {
     "data": {
      "text/plain": [
       "\n",
       "Call:\n",
       "lm(formula = richness ~ grainsize, data = survey_data_richness)\n",
       "\n",
       "Residuals:\n",
       "    Min      1Q  Median      3Q     Max \n",
       "-8.4833 -3.6733 -0.2693  2.1872 16.0701 \n",
       "\n",
       "Coefficients:\n",
       "            Estimate Std. Error t value Pr(>|t|)    \n",
       "(Intercept) 14.49529    3.40326   4.259 0.000109 ***\n",
       "grainsize   -0.03232    0.01222  -2.644 0.011386 *  \n",
       "---\n",
       "Signif. codes:  0 '***' 0.001 '**' 0.01 '*' 0.05 '.' 0.1 ' ' 1\n",
       "\n",
       "Residual standard error: 4.694 on 43 degrees of freedom\n",
       "Multiple R-squared:  0.1399,\tAdjusted R-squared:  0.1198 \n",
       "F-statistic: 6.991 on 1 and 43 DF,  p-value: 0.01139\n"
      ]
     },
     "metadata": {},
     "output_type": "display_data"
    }
   ],
   "source": [
    "summary(lm(richness~grainsize, data = survey_data_richness))"
   ]
  },
  {
   "cell_type": "code",
   "execution_count": 65,
   "id": "28042fda",
   "metadata": {},
   "outputs": [
    {
     "data": {
      "image/png": "[encoded data removed]",
      "text/plain": [
       "plot without title"
      ]
     },
     "metadata": {},
     "output_type": "display_data"
    }
   ],
   "source": [
    "ggplot(survey_data_richness) + \n",
    "  geom_point(aes(x=grainsize, y=richness)) + \n",
    "  geom_abline(intercept = lm_richness$coefficients[1], slope = lm_richness$coefficients[2], color = 2, size=2, alpha=0.5)"
   ]
  },
  {
   "cell_type": "code",
   "execution_count": 67,
   "id": "090afa49",
   "metadata": {
    "scrolled": true
   },
   "outputs": [
    {
     "data": {
      "text/plain": [
       "\n",
       "Call:\n",
       "lm(formula = richness ~ humus, data = survey_data_richness)\n",
       "\n",
       "Residuals:\n",
       "    Min      1Q  Median      3Q     Max \n",
       "-5.6801 -3.0894 -1.0894  0.9106 17.9106 \n",
       "\n",
       "Coefficients:\n",
       "            Estimate Std. Error t value Pr(>|t|)    \n",
       "(Intercept)   4.0894     0.8822   4.636 3.31e-05 ***\n",
       "humus        31.8127    10.9393   2.908  0.00573 ** \n",
       "---\n",
       "Signif. codes:  0 '***' 0.001 '**' 0.01 '*' 0.05 '.' 0.1 ' ' 1\n",
       "\n",
       "Residual standard error: 4.627 on 43 degrees of freedom\n",
       "Multiple R-squared:  0.1644,\tAdjusted R-squared:  0.1449 \n",
       "F-statistic: 8.457 on 1 and 43 DF,  p-value: 0.005732\n"
      ]
     },
     "metadata": {},
     "output_type": "display_data"
    }
   ],
   "source": [
    "summary(lm(richness~humus, data = survey_data_richness))"
   ]
  },
  {
   "cell_type": "code",
   "execution_count": 68,
   "id": "26b2a94b",
   "metadata": {},
   "outputs": [
    {
     "data": {
      "image/png": "[encoded data removed]",
      "text/plain": [
       "plot without title"
      ]
     },
     "metadata": {},
     "output_type": "display_data"
    }
   ],
   "source": [
    "ggplot(survey_data_richness) + \n",
    "  geom_point(aes(x=humus, y=richness)) + \n",
    "  geom_abline(intercept = lm_richness$coefficients[1], slope = lm_richness$coefficients[2], color = 2, size=2, alpha=0.5)"
   ]
  },
  {
   "cell_type": "code",
   "execution_count": 69,
   "id": "c41bfb7b",
   "metadata": {},
   "outputs": [
    {
     "data": {
      "text/plain": [
       "\n",
       "Call:\n",
       "lm(formula = richness ~ chalk, data = survey_data_richness)\n",
       "\n",
       "Residuals:\n",
       "    Min      1Q  Median      3Q     Max \n",
       "-6.6366 -3.5081 -0.7918  2.4189 15.4513 \n",
       "\n",
       "Coefficients:\n",
       "            Estimate Std. Error t value Pr(>|t|)    \n",
       "(Intercept)  6.76496    0.95513   7.083 9.77e-09 ***\n",
       "chalk       -0.13517    0.07749  -1.744   0.0882 .  \n",
       "---\n",
       "Signif. codes:  0 '***' 0.001 '**' 0.01 '*' 0.05 '.' 0.1 ' ' 1\n",
       "\n",
       "Residual standard error: 4.891 on 43 degrees of freedom\n",
       "Multiple R-squared:  0.06608,\tAdjusted R-squared:  0.04436 \n",
       "F-statistic: 3.043 on 1 and 43 DF,  p-value: 0.08825\n"
      ]
     },
     "metadata": {},
     "output_type": "display_data"
    }
   ],
   "source": [
    "summary(lm(richness~chalk, data = survey_data_richness))"
   ]
  },
  {
   "cell_type": "code",
   "execution_count": 70,
   "id": "7513b33f",
   "metadata": {},
   "outputs": [
    {
     "data": {
      "image/png": "[encoded data removed]",
      "text/plain": [
       "plot without title"
      ]
     },
     "metadata": {},
     "output_type": "display_data"
    }
   ],
   "source": [
    "ggplot(survey_data_richness) + \n",
    "  geom_point(aes(x=chalk, y=richness)) + \n",
    "  geom_abline(intercept = lm_richness$coefficients[1], slope = lm_richness$coefficients[2], color = 2, size=2, alpha=0.5)"
   ]
  },
  {
   "cell_type": "code",
   "execution_count": 71,
   "id": "5a83d861",
   "metadata": {},
   "outputs": [
    {
     "data": {
      "text/plain": [
       "\n",
       "Call:\n",
       "lm(formula = richness ~ sorting1, data = survey_data_richness)\n",
       "\n",
       "Residuals:\n",
       "    Min      1Q  Median      3Q     Max \n",
       "-6.6583 -3.5275  0.1417  2.4229 15.8970 \n",
       "\n",
       "Coefficients:\n",
       "            Estimate Std. Error t value Pr(>|t|)    \n",
       "(Intercept) 10.29939    2.00779   5.130 6.61e-06 ***\n",
       "sorting1    -0.04713    0.01921  -2.453   0.0183 *  \n",
       "---\n",
       "Signif. codes:  0 '***' 0.001 '**' 0.01 '*' 0.05 '.' 0.1 ' ' 1\n",
       "\n",
       "Residual standard error: 4.741 on 43 degrees of freedom\n",
       "Multiple R-squared:  0.1228,\tAdjusted R-squared:  0.1024 \n",
       "F-statistic: 6.019 on 1 and 43 DF,  p-value: 0.01828\n"
      ]
     },
     "metadata": {},
     "output_type": "display_data"
    }
   ],
   "source": [
    "summary(lm(richness~sorting1, data = survey_data_richness))"
   ]
  },
  {
   "cell_type": "code",
   "execution_count": 72,
   "id": "17370d29",
   "metadata": {},
   "outputs": [
    {
     "data": {
      "image/png": "[encoded data removed]",
      "text/plain": [
       "plot without title"
      ]
     },
     "metadata": {},
     "output_type": "display_data"
    }
   ],
   "source": [
    "ggplot(survey_data_richness) + \n",
    "  geom_point(aes(x=sorting1, y=richness)) + \n",
    "  geom_abline(intercept = lm_richness$coefficients[1], slope = lm_richness$coefficients[2], color = 2, size=2, alpha=0.5)"
   ]
  },
  {
   "cell_type": "markdown",
   "id": "9f0f0228",
   "metadata": {},
   "source": [
    "Q7. What do the various output of the `lm` mean? Interpret the results of your model. "
   ]
  },
  {
   "cell_type": "code",
   "execution_count": 73,
   "id": "d747ba66",
   "metadata": {},
   "outputs": [],
   "source": [
    "# Write your Interpretation here\n",
    "# NAP and richness is the only output with a significant linear relationship amongst all other variables"
   ]
  },
  {
   "cell_type": "code",
   "execution_count": 74,
   "id": "fc81a631",
   "metadata": {
    "scrolled": true
   },
   "outputs": [
    {
     "data": {
      "text/plain": [
       "\n",
       "Call:\n",
       "lm(formula = richness ~ I(NAP), data = survey_data_richness)\n",
       "\n",
       "Residuals:\n",
       "    Min      1Q  Median      3Q     Max \n",
       "-5.0675 -2.7607 -0.8029  1.3534 13.8723 \n",
       "\n",
       "Coefficients:\n",
       "            Estimate Std. Error t value Pr(>|t|)    \n",
       "(Intercept)   6.6857     0.6578  10.164 5.25e-13 ***\n",
       "I(NAP)       -2.8669     0.6307  -4.545 4.42e-05 ***\n",
       "---\n",
       "Signif. codes:  0 '***' 0.001 '**' 0.01 '*' 0.05 '.' 0.1 ' ' 1\n",
       "\n",
       "Residual standard error: 4.16 on 43 degrees of freedom\n",
       "Multiple R-squared:  0.3245,\tAdjusted R-squared:  0.3088 \n",
       "F-statistic: 20.66 on 1 and 43 DF,  p-value: 4.418e-05\n"
      ]
     },
     "metadata": {},
     "output_type": "display_data"
    }
   ],
   "source": [
    "lm_richness_NAP <- lm(richness~I(NAP), data = survey_data_richness)\n",
    "summary(lm_richness_NAP)"
   ]
  },
  {
   "cell_type": "code",
   "execution_count": 75,
   "id": "277d2777",
   "metadata": {},
   "outputs": [
    {
     "data": {
      "text/html": [
       "1.11022302462516e-15"
      ],
      "text/latex": [
       "1.11022302462516e-15"
      ],
      "text/markdown": [
       "1.11022302462516e-15"
      ],
      "text/plain": [
       "[1] 1.110223e-15"
      ]
     },
     "metadata": {},
     "output_type": "display_data"
    }
   ],
   "source": [
    "sum(residuals(lm_richness_NAP))"
   ]
  },
  {
   "cell_type": "code",
   "execution_count": 76,
   "id": "2eb07023",
   "metadata": {},
   "outputs": [
    {
     "data": {
      "image/png": "[encoded data removed]",
      "text/plain": [
       "plot without title"
      ]
     },
     "metadata": {},
     "output_type": "display_data"
    }
   ],
   "source": [
    "ggplot(survey_data_richness) +\n",
    "  geom_point(aes(x=NAP, y=richness)) + \n",
    "  geom_abline(intercept = lm_richness_NAP$coefficients[1], slope = lm_richness_NAP$coefficients[2], color = 2, size=2)"
   ]
  },
  {
   "cell_type": "code",
   "execution_count": 79,
   "id": "8f86efe8",
   "metadata": {},
   "outputs": [
    {
     "data": {
      "image/png": "[encoded data removed]",
      "text/plain": [
       "plot without title"
      ]
     },
     "metadata": {},
     "output_type": "display_data"
    }
   ],
   "source": [
    "ggplot()+\n",
    "  geom_density(aes(x=residuals(lm_richness_NAP)), bw=2)+\n",
    "  xlim(-15,20)"
   ]
  },
  {
   "cell_type": "code",
   "execution_count": null,
   "id": "5d5668b6",
   "metadata": {},
   "outputs": [],
   "source": [
    "Q8. Build a model that includes all the parameters and assess the fit of the data"
   ]
  },
  {
   "cell_type": "code",
   "execution_count": 80,
   "id": "00189988",
   "metadata": {},
   "outputs": [
    {
     "data": {
      "text/plain": [
       "\n",
       "Call:\n",
       "lm(formula = richness ~ ., data = survey_data_richness[, 2:14])\n",
       "\n",
       "Residuals:\n",
       "    Min      1Q  Median      3Q     Max \n",
       "-4.4344 -1.3933 -0.5195  0.7726 11.6044 \n",
       "\n",
       "Coefficients:\n",
       "                Estimate Std. Error t value Pr(>|t|)    \n",
       "(Intercept)   -43.371160  47.580750  -0.912    0.369    \n",
       "angle1         -0.009397   0.010924  -0.860    0.396    \n",
       "angle2          0.053760   0.040977   1.312    0.199    \n",
       "exposure       -0.541853   1.856944  -0.292    0.772    \n",
       "salinity        1.020630   1.311337   0.778    0.442    \n",
       "temperature     1.195516   1.230227   0.972    0.338    \n",
       "NAP            -2.765120   0.580865  -4.760 3.98e-05 ***\n",
       "penetrability  -0.006443   0.007021  -0.918    0.366    \n",
       "grainsize       0.019833   0.030860   0.643    0.525    \n",
       "humus           0.306015   9.087738   0.034    0.973    \n",
       "chalk          -0.137526   0.138167  -0.995    0.327    \n",
       "sorting1        0.004968   0.042032   0.118    0.907    \n",
       "Beach          -0.228777   0.782530  -0.292    0.772    \n",
       "---\n",
       "Signif. codes:  0 '***' 0.001 '**' 0.01 '*' 0.05 '.' 0.1 ' ' 1\n",
       "\n",
       "Residual standard error: 3.105 on 32 degrees of freedom\n",
       "Multiple R-squared:   0.72,\tAdjusted R-squared:  0.615 \n",
       "F-statistic: 6.858 on 12 and 32 DF,  p-value: 6.314e-06\n"
      ]
     },
     "metadata": {},
     "output_type": "display_data"
    }
   ],
   "source": [
    "# Write your code here\n",
    "lm_richness <- lm(richness~., data = survey_data_richness[,2:14])\n",
    "summary(lm_richness)"
   ]
  },
  {
   "cell_type": "code",
   "execution_count": null,
   "id": "45dca53e",
   "metadata": {},
   "outputs": [],
   "source": [
    "# Write your Interpretation here\n",
    "# The most significant coefficient is NAP, in this model which shows all parameters, but also from the previous questions.\n",
    "# NAP had the closest fit and even though its residual"
   ]
  },
  {
   "cell_type": "markdown",
   "id": "061f8411",
   "metadata": {},
   "source": [
    "Q9. Use an appropriate method that only selects a subset of the data. Compare the AIC with the previous method. What do you conclude? Justify your answer."
   ]
  },
  {
   "cell_type": "code",
   "execution_count": null,
   "id": "c20a22ba",
   "metadata": {},
   "outputs": [],
   "source": [
    "# Write your code here"
   ]
  },
  {
   "cell_type": "code",
   "execution_count": null,
   "id": "3f6ed67c",
   "metadata": {},
   "outputs": [],
   "source": [
    "# Write your Interpretation here"
   ]
  },
  {
   "cell_type": "markdown",
   "id": "9ad5710f",
   "metadata": {},
   "source": [
    "Q10. Can you find the model that provide the best fit. You can use term interaction in the model. Justify why this model is the `best`.\n",
    "\n",
    "\n"
   ]
  },
  {
   "cell_type": "code",
   "execution_count": null,
   "id": "07393c81",
   "metadata": {},
   "outputs": [],
   "source": [
    "# Write your code here"
   ]
  },
  {
   "cell_type": "code",
   "execution_count": null,
   "id": "31eea6ff",
   "metadata": {},
   "outputs": [],
   "source": [
    "# Write your Interpretation here"
   ]
  }
 ],
 "metadata": {
  "kernelspec": {
   "display_name": "R",
   "language": "R",
   "name": "ir"
  },
  "language_info": {
   "codemirror_mode": "r",
   "file_extension": ".r",
   "mimetype": "text/x-r-source",
   "name": "R",
   "pygments_lexer": "r",
   "version": "3.6.1"
  }
 },
 "nbformat": 4,
 "nbformat_minor": 5
}
